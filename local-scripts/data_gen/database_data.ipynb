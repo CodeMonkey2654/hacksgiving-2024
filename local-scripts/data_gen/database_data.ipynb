{
 "cells": [
  {
   "cell_type": "code",
   "execution_count": null,
   "metadata": {},
   "outputs": [],
   "source": [
    "!pip install --upgrade pandas==2.1.4"
   ]
  },
  {
   "cell_type": "code",
   "execution_count": null,
   "metadata": {},
   "outputs": [],
   "source": [
    "import pandas as pd\n",
    "import numpy as np"
   ]
  },
  {
   "cell_type": "code",
   "execution_count": null,
   "metadata": {},
   "outputs": [],
   "source": [
    "data_df = pd.read_csv(\"./Exhibit_Master_List(Data).csv\", encoding=\"unicode_escape\", names=[\"Experience Name\", \"Description\", \"IntendedAge\", \"ContentDifficulty\", \"Topics\", \"GS Assistance\", \"Popularity\", \"Visitor Duration\", \"Copy\", \"More Copy\", \"a\", \"b\"])\n",
    "data_df = data_df.drop(columns=[\"a\", \"b\"])\n",
    "data_df.head()"
   ]
  },
  {
   "cell_type": "code",
   "execution_count": null,
   "metadata": {},
   "outputs": [],
   "source": [
    "# Remove first 4 rows\n",
    "data_df = data_df.iloc[4:]\n",
    "data_df = data_df.reset_index(drop=True)"
   ]
  },
  {
   "cell_type": "code",
   "execution_count": null,
   "metadata": {},
   "outputs": [],
   "source": [
    "data_df"
   ]
  },
  {
   "cell_type": "code",
   "execution_count": null,
   "metadata": {},
   "outputs": [],
   "source": [
    "topic_set = set()\n",
    "\n",
    "topics = []\n",
    "for i in range(len(data_df)):\n",
    "    topic = data_df[\"Topics\"][i]\n",
    "    topic = str(topic).split(\", \")\n",
    "    for t in topic:\n",
    "        if t != \"nan\" and t != \"\":\n",
    "            topic_set.add(t)\n",
    "\n",
    "topic_set = list(topic_set)\n",
    "topic_set"
   ]
  },
  {
   "cell_type": "code",
   "execution_count": null,
   "metadata": {},
   "outputs": [],
   "source": [
    "# Embed every topic and meta topic. Use mini-lm-v6\n",
    "import torch\n",
    "from sentence_transformers import SentenceTransformer\n",
    "\n",
    "model_name = \"sentence-transformers/all-MiniLM-L12-v2\"\n",
    "model = SentenceTransformer(model_name)"
   ]
  },
  {
   "cell_type": "code",
   "execution_count": null,
   "metadata": {},
   "outputs": [],
   "source": [
    "META_TOPICS =  [\n",
    "    \"Science and Technology\",\n",
    "    \"Nature and Environment\",\n",
    "    \"Transportation and Engineering\",\n",
    "    \"History and Archaeology\",\n",
    "    \"Art and Music\",\n",
    "    \"Geography and Places\",\n",
    "    \"Physics and Mechanics\",\n",
    "    \"Energy and Sustainability\",\n",
    "    \"Interactive Activities\"\n",
    "]\n",
    "\n",
    "META_TOPIC_EMOJIS = {\n",
    "    \"Science and Technology\": \"🔬\",\n",
    "    \"Nature and Environment\": \"🌿\",\n",
    "    \"Transportation and Engineering\": \"🚗\",\n",
    "    \"History and Archaeology\": \"🏺\",\n",
    "    \"Art and Music\": \"🎨\",\n",
    "    \"Geography and Places\": \"🌍\",\n",
    "    \"Physics and Mechanics\": \"⚙️\",\n",
    "    \"Energy and Sustainability\": \"🌱\",\n",
    "    \"Interactive Activities\": \"🎮\"\n",
    "}\n",
    "\n",
    "META_TOPIC_COLORS = {\n",
    "    \"Science and Technology\": \"#FFD700\",\n",
    "    \"Nature and Environment\": \"#228B22\",\n",
    "    \"Transportation and Engineering\": \"#FF4500\",\n",
    "    \"History and Archaeology\": \"#8A2BE2\",\n",
    "    \"Art and Music\": \"#FF1493\",\n",
    "    \"Geography and Places\": \"#1E90FF\",\n",
    "    \"Physics and Mechanics\": \"#FF8C00\",\n",
    "    \"Energy and Sustainability\": \"#32CD32\",\n",
    "    \"Interactive Activities\": \"#FF69B4\"\n",
    "}\n",
    "\n",
    "meta_topic_embeddings = model.encode(META_TOPICS)\n",
    "topic_embeddings = model.encode(topic_set)\n",
    "\n",
    "# For each topic, find the closest meta topic\n",
    "topic_to_meta_topic = {}\n",
    "meta_topic_to_topic = {topic: [] for topic in META_TOPICS}\n",
    "\n",
    "for i, topic in enumerate(topic_set):\n",
    "    topic_embedding = topic_embeddings[i]\n",
    "    closest_meta_topic = None\n",
    "    closest_meta_topic_distance = float(\"inf\")\n",
    "    for j, meta_topic in enumerate(META_TOPICS):\n",
    "        meta_topic_embedding = meta_topic_embeddings[j]\n",
    "        distance = np.linalg.norm(topic_embedding - meta_topic_embedding)\n",
    "        if distance < closest_meta_topic_distance:\n",
    "            closest_meta_topic_distance = distance\n",
    "            closest_meta_topic = meta_topic\n",
    "\n",
    "    topic_to_meta_topic[topic] = closest_meta_topic\n",
    "    meta_topic_to_topic[closest_meta_topic].append(topic)"
   ]
  },
  {
   "cell_type": "code",
   "execution_count": null,
   "metadata": {},
   "outputs": [],
   "source": [
    "for meta_topic in META_TOPICS:\n",
    "    print(meta_topic, len(meta_topic_to_topic[meta_topic]))"
   ]
  },
  {
   "cell_type": "code",
   "execution_count": null,
   "metadata": {},
   "outputs": [],
   "source": [
    "meta_topic_to_topic[\"Interactive Activities\"]"
   ]
  },
  {
   "cell_type": "code",
   "execution_count": null,
   "metadata": {},
   "outputs": [],
   "source": [
    "topic_objs = []\n",
    "for i,meta_topic in enumerate(META_TOPICS):\n",
    "    topic_objs.append({\n",
    "        \"id\": \"topic_\" + str(i),\n",
    "        \"label\": meta_topic,\n",
    "        \"icon\": META_TOPIC_EMOJIS[meta_topic],\n",
    "        \"color\": META_TOPIC_COLORS[meta_topic]\n",
    "    })\n",
    "\n",
    "topic_objs[:5]"
   ]
  },
  {
   "cell_type": "code",
   "execution_count": null,
   "metadata": {},
   "outputs": [],
   "source": [
    "import json\n",
    "\n",
    "exhibit_topic_objs = []\n",
    "exhibit_objs = []\n",
    "for i, row in data_df.iterrows():\n",
    "    topics = row[\"Topics\"]\n",
    "    topics = str(topics).split(\", \")\n",
    "\n",
    "    meta_topics = []\n",
    "    meta_topic_names = []\n",
    "    for topic in topics:\n",
    "        if topic != \"nan\" and topic != \"\":\n",
    "            meta_topic = topic_to_meta_topic[topic]\n",
    "\n",
    "            # Get meta topic id\n",
    "            for j, meta_topic_name in enumerate(META_TOPICS):\n",
    "                if meta_topic_name == meta_topic:\n",
    "                    meta_topic = \"topic_\" + str(j)\n",
    "                    meta_topic_names.append(meta_topic_name)\n",
    "                    break\n",
    "\n",
    "            \n",
    "                \n",
    "            meta_topics.append(meta_topic)\n",
    "\n",
    "    # construct a vector for each exhibit based on the meta topics\n",
    "    print(meta_topics)\n",
    "    vector = np.zeros(len(META_TOPICS))\n",
    "    for meta_topic in meta_topic_names:\n",
    "        for j, meta_topic_name in enumerate(META_TOPICS):\n",
    "            if meta_topic_name == meta_topic:\n",
    "                vector[j] += 1\n",
    "\n",
    "    m = np.max(vector)\n",
    "    vector = vector / m\n",
    "\n",
    "    if m != 0:\n",
    "        for j, meta_topic_name in enumerate(META_TOPICS):\n",
    "            if vector[j] > 0:\n",
    "                exhibit_topic_objs.append({\n",
    "                    \"exhibit_id\": \"exhibit_\" + str(i),\n",
    "                    \"topic_id\": \"topic_\" + str(j),\n",
    "                    \"relevance\": vector[j]\n",
    "                })\n",
    "    else:\n",
    "        # Create weak association with all topics\n",
    "        for j, meta_topic_name in enumerate(META_TOPICS):\n",
    "            exhibit_topic_objs.append({\n",
    "                \"exhibit_id\": \"exhibit_\" + str(i),\n",
    "                \"topic_id\": \"topic_\" + str(j),\n",
    "                \"relevance\": 0.1\n",
    "            })\n",
    "\n",
    "    exhibit = {}\n",
    "    exhibit[\"id\"] = \"exhibit_\" + str(i)\n",
    "    exhibit[\"title\"] = row[\"Experience Name\"]\n",
    "    exhibit[\"description\"] = row[\"Description\"]\n",
    "    exhibit[\"image\"] = \"N/A\"\n",
    "    exhibit[\"topic_id\"] = meta_topics\n",
    "    exhibit[\"details\"] = {\n",
    "        \"text\": (str(row[\"Copy\"]) + \"\\n\" + str(row[\"More Copy\"])).strip(),\n",
    "        \"intended_age\": row[\"IntendedAge\"],\n",
    "        \"difficulty\": row[\"ContentDifficulty\"],\n",
    "        \"gs_assistance\": row[\"GS Assistance\"],\n",
    "        \"popularity\": row[\"Popularity\"],\n",
    "        \"visitor_duration\": row[\"Visitor Duration\"]\n",
    "    }\n",
    "    exhibit[\"details\"] = json.dumps(exhibit[\"details\"])\n",
    "\n",
    "    exhibit_objs.append(exhibit)\n",
    "\n"
   ]
  },
  {
   "cell_type": "code",
   "execution_count": null,
   "metadata": {},
   "outputs": [],
   "source": [
    "exibits[:1]"
   ]
  },
  {
   "cell_type": "code",
   "execution_count": null,
   "metadata": {},
   "outputs": [],
   "source": [
    "exhibit_topic_objs[:15]"
   ]
  },
  {
   "cell_type": "code",
   "execution_count": null,
   "metadata": {},
   "outputs": [],
   "source": [
    "# Write all data to json files\n",
    "with open(\"topics.json\", \"w\") as f:\n",
    "    json.dump(topic_objs, f)\n",
    "\n",
    "with open(\"exhibits.json\", \"w\") as f:\n",
    "    json.dump(exhibit_objs, f)\n",
    "\n",
    "with open(\"exhibit_topics.json\", \"w\") as f:\n",
    "    json.dump(exhibit_topic_objs, f)"
   ]
  },
  {
   "cell_type": "code",
   "execution_count": null,
   "metadata": {},
   "outputs": [],
   "source": [
    "# # import networkx\n",
    "# import networkx as nx\n",
    "\n",
    "# filtered_exhibit_topic_objs = [edge for edge in exhibit_topic_objs if edge[\"relevance\"] > 0.1]\n",
    "# filtered_exhibit_ids = set([edge[\"exhibit_id\"] for edge in filtered_exhibit_topic_objs])\n",
    "# filtered_exhibits = [exhibit for exhibit in exhibit_objs if exhibit[\"id\"] in filtered_exhibit_ids]\n",
    "\n",
    "# G = nx.Graph()\n",
    "\n",
    "# for topic in topic_objs:\n",
    "#     G.add_node(topic[\"id\"], label=topic[\"label\"], icon=topic[\"icon\"], color=topic[\"color\"], type=\"topic\")\n",
    "\n",
    "# for exhibit in filtered_exhibits:\n",
    "#     G.add_node(exhibit[\"id\"], label=exhibit[\"title\"], description=exhibit[\"description\"], image=exhibit[\"image\"], details=exhibit[\"details\"], type=\"exhibit\")\n",
    "\n",
    "# for edge in filtered_exhibit_topic_objs:\n",
    "#     G.add_edge(edge[\"exhibit_id\"], edge[\"topic_id\"], relevance=edge[\"relevance\"])\n",
    "\n",
    "# nx.write_gexf(G, \"exhibit_topics.gexf\")"
   ]
  },
  {
   "cell_type": "code",
   "execution_count": null,
   "metadata": {},
   "outputs": [],
   "source": [
    "topic_objs[:5]"
   ]
  },
  {
   "cell_type": "code",
   "execution_count": null,
   "metadata": {},
   "outputs": [],
   "source": [
    "# class Topic(Base):\n",
    "#     __tablename__ = \"topics\"\n",
    "   \n",
    "#     id = Column(String, primary_key=True)\n",
    "#     label = Column(String, nullable=False)\n",
    "#     icon = Column(String, nullable=False)\n",
    "#     color = Column(String, nullable=False)\n",
    " \n",
    "# class TopicExhibitRelation(Base):\n",
    "#     __tablename__ = \"topic_exhibit_relations\"\n",
    "#    __table_args__ = (\n",
    "#         PrimaryKeyConstraint(\"topic_id\", \"exhibit_id\"),\n",
    "#     )\n",
    "#    topic_id = Column(String, ForeignKey(\"topics.id\"), nullable=False)\n",
    "#    exhibit_id = Column(String, ForeignKey(\"exhibits.id\"), nullable=False)\n",
    "#    strength = Column(Float, nullable=False)\n",
    "\n",
    "# class Exhibit(Base):\n",
    "#     __tablename__ = \"exhibits\"\n",
    "   \n",
    "#     id = Column(String, primary_key=True)\n",
    "#     title = Column(String, nullable=False)\n",
    "#     description = Column(String, nullable=False)\n",
    "#     image = Column(String, nullable=False)\n",
    "#     details = Column(JSON, nullable=True)"
   ]
  },
  {
   "cell_type": "code",
   "execution_count": null,
   "metadata": {},
   "outputs": [],
   "source": []
  }
 ],
 "metadata": {
  "kernelspec": {
   "display_name": "Python 3",
   "language": "python",
   "name": "python3"
  },
  "language_info": {
   "codemirror_mode": {
    "name": "ipython",
    "version": 3
   },
   "file_extension": ".py",
   "mimetype": "text/x-python",
   "name": "python",
   "nbconvert_exporter": "python",
   "pygments_lexer": "ipython3",
   "version": "3.11.4"
  }
 },
 "nbformat": 4,
 "nbformat_minor": 2
}
