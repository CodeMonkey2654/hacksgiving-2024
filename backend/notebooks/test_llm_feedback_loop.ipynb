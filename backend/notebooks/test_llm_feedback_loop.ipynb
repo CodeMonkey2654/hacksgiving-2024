{
 "cells": [
  {
   "cell_type": "code",
   "execution_count": 8,
   "metadata": {},
   "outputs": [
    {
     "ename": "ModuleNotFoundError",
     "evalue": "No module named 'openai'",
     "output_type": "error",
     "traceback": [
      "\u001b[1;31m---------------------------------------------------------------------------\u001b[0m",
      "\u001b[1;31mModuleNotFoundError\u001b[0m                       Traceback (most recent call last)",
      "Cell \u001b[1;32mIn[8], line 1\u001b[0m\n\u001b[1;32m----> 1\u001b[0m \u001b[38;5;28;01mimport\u001b[39;00m \u001b[38;5;21;01mopenai\u001b[39;00m  \u001b[38;5;66;03m# Assuming OpenAI API is used for Llama and Gemini models\u001b[39;00m\n",
      "\u001b[1;31mModuleNotFoundError\u001b[0m: No module named 'openai'"
     ]
    }
   ],
   "source": [
    "import openai  # Assuming OpenAI API is used for Llama and Gemini models"
   ]
  },
  {
   "cell_type": "code",
   "execution_count": 3,
   "metadata": {},
   "outputs": [],
   "source": [
    "# Function to get user input\n",
    "def get_user_input():\n",
    "    experience_level = input(\"Enter your experience level (elementary, intermediate, expert): \")\n",
    "    topics_of_interest = input(\"Enter your topics of interest (chem, physics, bio, astro, etc.): \")\n",
    "    return experience_level, topics_of_interest"
   ]
  },
  {
   "cell_type": "code",
   "execution_count": 4,
   "metadata": {},
   "outputs": [],
   "source": [
    "# Function to generate exhibit information using Llama\n",
    "def generate_exhibit_info(experience_level, topics_of_interest):\n",
    "    prompt = f\"Generate exhibit information for a {experience_level} level visitor interested in {topics_of_interest}.\"\n",
    "    response = openai.ChatCompletion.create(\n",
    "        model=\"Llama-3.1\",  # or \"Llama-3.2\"\n",
    "        messages=[{\"role\": \"user\", \"content\": prompt}]\n",
    "    )\n",
    "    return response['choices'][0]['message']['content']"
   ]
  },
  {
   "cell_type": "code",
   "execution_count": 5,
   "metadata": {},
   "outputs": [],
   "source": [
    "# Function to verify information using Gemini\n",
    "def verify_exhibit_info(exhibit_info):\n",
    "    prompt = f\"Verify the following exhibit information for accuracy: {exhibit_info}\"\n",
    "    response = openai.ChatCompletion.create(\n",
    "        model=\"Gemini\",\n",
    "        messages=[{\"role\": \"user\", \"content\": prompt}]\n",
    "    )\n",
    "    return response['choices'][0]['message']['content']"
   ]
  },
  {
   "cell_type": "code",
   "execution_count": 6,
   "metadata": {},
   "outputs": [],
   "source": [
    "# Main loop to ensure accurate information\n",
    "def main():\n",
    "    experience_level, topics_of_interest = get_user_input()\n",
    "    exhibit_info = generate_exhibit_info(experience_level, topics_of_interest)\n",
    "    \n",
    "    while True:\n",
    "        verification_feedback = verify_exhibit_info(exhibit_info)\n",
    "        \n",
    "        if \"accurate\" in verification_feedback.lower():\n",
    "            print(\"Exhibit Information:\")\n",
    "            print(exhibit_info)\n",
    "            break\n",
    "        else:\n",
    "            print(\"Feedback from Gemini:\", verification_feedback)\n",
    "            exhibit_info = generate_exhibit_info(experience_level, topics_of_interest)  # Regenerate info\n"
   ]
  },
  {
   "cell_type": "code",
   "execution_count": 7,
   "metadata": {},
   "outputs": [
    {
     "ename": "NameError",
     "evalue": "name 'openai' is not defined",
     "output_type": "error",
     "traceback": [
      "\u001b[1;31m---------------------------------------------------------------------------\u001b[0m",
      "\u001b[1;31mNameError\u001b[0m                                 Traceback (most recent call last)",
      "Cell \u001b[1;32mIn[7], line 1\u001b[0m\n\u001b[1;32m----> 1\u001b[0m \u001b[43mmain\u001b[49m\u001b[43m(\u001b[49m\u001b[43m)\u001b[49m\n",
      "Cell \u001b[1;32mIn[6], line 4\u001b[0m, in \u001b[0;36mmain\u001b[1;34m()\u001b[0m\n\u001b[0;32m      2\u001b[0m \u001b[38;5;28;01mdef\u001b[39;00m \u001b[38;5;21mmain\u001b[39m():\n\u001b[0;32m      3\u001b[0m     experience_level, topics_of_interest \u001b[38;5;241m=\u001b[39m get_user_input()\n\u001b[1;32m----> 4\u001b[0m     exhibit_info \u001b[38;5;241m=\u001b[39m \u001b[43mgenerate_exhibit_info\u001b[49m\u001b[43m(\u001b[49m\u001b[43mexperience_level\u001b[49m\u001b[43m,\u001b[49m\u001b[43m \u001b[49m\u001b[43mtopics_of_interest\u001b[49m\u001b[43m)\u001b[49m\n\u001b[0;32m      6\u001b[0m     \u001b[38;5;28;01mwhile\u001b[39;00m \u001b[38;5;28;01mTrue\u001b[39;00m:\n\u001b[0;32m      7\u001b[0m         verification_feedback \u001b[38;5;241m=\u001b[39m verify_exhibit_info(exhibit_info)\n",
      "Cell \u001b[1;32mIn[4], line 4\u001b[0m, in \u001b[0;36mgenerate_exhibit_info\u001b[1;34m(experience_level, topics_of_interest)\u001b[0m\n\u001b[0;32m      2\u001b[0m \u001b[38;5;28;01mdef\u001b[39;00m \u001b[38;5;21mgenerate_exhibit_info\u001b[39m(experience_level, topics_of_interest):\n\u001b[0;32m      3\u001b[0m     prompt \u001b[38;5;241m=\u001b[39m \u001b[38;5;124mf\u001b[39m\u001b[38;5;124m\"\u001b[39m\u001b[38;5;124mGenerate exhibit information for a \u001b[39m\u001b[38;5;132;01m{\u001b[39;00mexperience_level\u001b[38;5;132;01m}\u001b[39;00m\u001b[38;5;124m level visitor interested in \u001b[39m\u001b[38;5;132;01m{\u001b[39;00mtopics_of_interest\u001b[38;5;132;01m}\u001b[39;00m\u001b[38;5;124m.\u001b[39m\u001b[38;5;124m\"\u001b[39m\n\u001b[1;32m----> 4\u001b[0m     response \u001b[38;5;241m=\u001b[39m \u001b[43mopenai\u001b[49m\u001b[38;5;241m.\u001b[39mChatCompletion\u001b[38;5;241m.\u001b[39mcreate(\n\u001b[0;32m      5\u001b[0m         model\u001b[38;5;241m=\u001b[39m\u001b[38;5;124m\"\u001b[39m\u001b[38;5;124mLlama-3.1\u001b[39m\u001b[38;5;124m\"\u001b[39m,  \u001b[38;5;66;03m# or \"Llama-3.2\"\u001b[39;00m\n\u001b[0;32m      6\u001b[0m         messages\u001b[38;5;241m=\u001b[39m[{\u001b[38;5;124m\"\u001b[39m\u001b[38;5;124mrole\u001b[39m\u001b[38;5;124m\"\u001b[39m: \u001b[38;5;124m\"\u001b[39m\u001b[38;5;124muser\u001b[39m\u001b[38;5;124m\"\u001b[39m, \u001b[38;5;124m\"\u001b[39m\u001b[38;5;124mcontent\u001b[39m\u001b[38;5;124m\"\u001b[39m: prompt}]\n\u001b[0;32m      7\u001b[0m     )\n\u001b[0;32m      8\u001b[0m     \u001b[38;5;28;01mreturn\u001b[39;00m response[\u001b[38;5;124m'\u001b[39m\u001b[38;5;124mchoices\u001b[39m\u001b[38;5;124m'\u001b[39m][\u001b[38;5;241m0\u001b[39m][\u001b[38;5;124m'\u001b[39m\u001b[38;5;124mmessage\u001b[39m\u001b[38;5;124m'\u001b[39m][\u001b[38;5;124m'\u001b[39m\u001b[38;5;124mcontent\u001b[39m\u001b[38;5;124m'\u001b[39m]\n",
      "\u001b[1;31mNameError\u001b[0m: name 'openai' is not defined"
     ]
    }
   ],
   "source": [
    "main()"
   ]
  },
  {
   "cell_type": "code",
   "execution_count": null,
   "metadata": {},
   "outputs": [],
   "source": []
  }
 ],
 "metadata": {
  "kernelspec": {
   "display_name": ".venv",
   "language": "python",
   "name": "python3"
  },
  "language_info": {
   "codemirror_mode": {
    "name": "ipython",
    "version": 3
   },
   "file_extension": ".py",
   "mimetype": "text/x-python",
   "name": "python",
   "nbconvert_exporter": "python",
   "pygments_lexer": "ipython3",
   "version": "3.12.2"
  }
 },
 "nbformat": 4,
 "nbformat_minor": 2
}
