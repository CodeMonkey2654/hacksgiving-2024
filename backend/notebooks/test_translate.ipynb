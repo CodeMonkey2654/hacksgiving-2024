{
 "cells": [
  {
   "cell_type": "markdown",
   "metadata": {},
   "source": [
    "# Test Notebook for Gemini API Translation\n",
    "\n",
    "Set up an API key with Google at https://aistudio.google.com/app/apikey\n",
    "\n",
    "The free tier for the API key give us:\n",
    "\n",
    "- 15 requests per minute\n",
    "- 1 million input tokens per minute\n",
    "- 1,500 requests per day\n",
    "\n",
    "for gemini-1.5-flash and gemini-1.5-8b\n",
    "\n",
    "We get (for free):\n",
    "\n",
    "- 2 requests per minute\n",
    "- 32,000 input tokens per minute\n",
    "- 50 requests per day\n",
    "\n",
    "for gemini-1.5-pro\n",
    "\n",
    "I recommend placing google API key in a secrets.json file (in .gitignore so you don't make it public).\n"
   ]
  },
  {
   "cell_type": "code",
   "execution_count": 1,
   "metadata": {},
   "outputs": [],
   "source": [
    "# imports\n",
    "import json"
   ]
  },
  {
   "cell_type": "code",
   "execution_count": 3,
   "metadata": {},
   "outputs": [],
   "source": [
    "# Read in google_api_key\n",
    "with open('../src/secrets.json') as secrets:\n",
    "    google_api_key = json.load(secrets)['google_api_key']"
   ]
  },
  {
   "cell_type": "markdown",
   "metadata": {},
   "source": [
    "### Using src/translater.py file\n"
   ]
  },
  {
   "cell_type": "code",
   "execution_count": 4,
   "metadata": {},
   "outputs": [],
   "source": [
    "import sys\n",
    "import os\n",
    "\n",
    "# Get the parent directory\n",
    "parent_dir = os.path.abspath(os.path.join(os.getcwd(), \"..\"))\n",
    "\n",
    "# Add the script directory to the Python path\n",
    "script_dir = os.path.join(parent_dir, \"src\")\n",
    "sys.path.append(script_dir)"
   ]
  },
  {
   "cell_type": "code",
   "execution_count": 5,
   "metadata": {},
   "outputs": [],
   "source": [
    "import translater"
   ]
  },
  {
   "cell_type": "code",
   "execution_count": 6,
   "metadata": {},
   "outputs": [],
   "source": [
    "t = translater.Translater(secrets_path=\"../src/secrets.json\")"
   ]
  },
  {
   "cell_type": "code",
   "execution_count": 8,
   "metadata": {},
   "outputs": [],
   "source": [
    "response = t(\"Let’s race! Hop behind the wheel to put physics and your own driving skills to the test in this next-level racing experience.\", \"Spanish\")"
   ]
  },
  {
   "cell_type": "code",
   "execution_count": 14,
   "metadata": {},
   "outputs": [
    {
     "name": "stdout",
     "output_type": "stream",
     "text": [
      "¡Participemos en una carrera! Suba al volante para poner a prueba la física y sus propias habilidades de conducción en esta experiencia de carreras de alto nivel.\n",
      "\n"
     ]
    }
   ],
   "source": [
    "print(response.candidates[0].content.parts[0].text)"
   ]
  },
  {
   "cell_type": "markdown",
   "metadata": {},
   "source": [
    "### Using Google's genai API\n",
    "\n",
    "Need to \n",
    "```\n",
    "pip install -U google-generativeai\n",
    "```\n",
    "\n",
    "if you haven't already. \n"
   ]
  },
  {
   "cell_type": "code",
   "execution_count": 5,
   "metadata": {},
   "outputs": [],
   "source": [
    "import google.generativeai as genai\n",
    "genai.configure(api_key=google_api_key)"
   ]
  },
  {
   "cell_type": "code",
   "execution_count": 6,
   "metadata": {},
   "outputs": [],
   "source": [
    "model = genai.GenerativeModel(\"gemini-1.5-flash\") # choose the model"
   ]
  },
  {
   "cell_type": "code",
   "execution_count": 7,
   "metadata": {},
   "outputs": [
    {
     "name": "stdout",
     "output_type": "stream",
     "text": [
      "¡Compitamos!  Suba al volante para poner a prueba la física y sus propias habilidades de conducción en esta experiencia de carreras de siguiente nivel.\n",
      "\n"
     ]
    }
   ],
   "source": [
    "LANGUAGE = 'Spanish'\n",
    "response = model.generate_content(\n",
    "    f\"Translate the following text to {LANGUAGE} and output only the translated, formal version: 'Let’s race! Hop behind the wheel to put physics and your own driving skills to the test in this next-level racing experience.'\"\n",
    ")\n",
    "\n",
    "translated_text = response.candidates[0].content.parts[0].text\n",
    "print(translated_text)"
   ]
  },
  {
   "cell_type": "markdown",
   "metadata": {},
   "source": [
    "### Using OpenAI API\n",
    "```\n",
    "pip install openai\n",
    "```\n",
    "If you don't have it installed. This is very similar just conforming to a different API, and need the base_url for the client object"
   ]
  },
  {
   "cell_type": "code",
   "execution_count": 8,
   "metadata": {},
   "outputs": [],
   "source": [
    "from openai import OpenAI\n",
    "\n",
    "client = OpenAI(\n",
    "    api_key=google_api_key,\n",
    "    base_url=\"https://generativelanguage.googleapis.com/v1beta/\"\n",
    ")"
   ]
  },
  {
   "cell_type": "code",
   "execution_count": 9,
   "metadata": {},
   "outputs": [],
   "source": [
    "LANGUAGE = \"Spanish\"\n",
    "response = client.chat.completions.create(\n",
    "    model=\"gemini-1.5-flash\",\n",
    "    n=1,\n",
    "    messages=[\n",
    "        {\"role\": \"system\", \n",
    "         \"content\": f\"You are a helpful accessibility assistant that translates given text and ONLY the given text into {LANGUAGE}. Your output should be the translated text ONLY and use the formal version.\"},\n",
    "        {\n",
    "            \"role\": \"user\",\n",
    "            \"content\": \"Let’s race! Hop behind the wheel to put physics and your own driving skills to the test in this next-level racing experience.\"\n",
    "        }\n",
    "    ]\n",
    ")"
   ]
  },
  {
   "cell_type": "code",
   "execution_count": 10,
   "metadata": {},
   "outputs": [
    {
     "name": "stdout",
     "output_type": "stream",
     "text": [
      "¡Vamos a competir! Suba al volante para poner a prueba la física y sus propias habilidades de conducción en esta experiencia de carreras de siguiente nivel.\n",
      "\n"
     ]
    }
   ],
   "source": [
    "print(response.choices[0].message.content)"
   ]
  },
  {
   "cell_type": "markdown",
   "metadata": {},
   "source": [
    "### Google Cloud Translate\n",
    "This is probably the direction Discovery World would go if this gets implemented for more organization around the translation process. For right now, can't figure it out without putting in more effort that I do not think is worth it rn."
   ]
  },
  {
   "cell_type": "code",
   "execution_count": null,
   "metadata": {},
   "outputs": [],
   "source": [
    "from google.cloud import aiplatform"
   ]
  },
  {
   "cell_type": "code",
   "execution_count": null,
   "metadata": {},
   "outputs": [],
   "source": [
    "def translate():\n",
    "    # Create a client\n",
    "    endpoint = aiplatform.Ednpoint('projects/gen-lang-client-0091826044/locations/LOCATION/publishers/google/models/cloud-translate-text')\n",
    "    # TODO where to find LOCATION? Not sure this is worth the effort"
   ]
  }
 ],
 "metadata": {
  "kernelspec": {
   "display_name": "Python 3",
   "language": "python",
   "name": "python3"
  },
  "language_info": {
   "codemirror_mode": {
    "name": "ipython",
    "version": 3
   },
   "file_extension": ".py",
   "mimetype": "text/x-python",
   "name": "python",
   "nbconvert_exporter": "python",
   "pygments_lexer": "ipython3",
   "version": "3.11.9"
  }
 },
 "nbformat": 4,
 "nbformat_minor": 2
}
